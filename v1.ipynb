import pygame
import numpy as np

# Initialize Pygame
pygame.init()

# Screen dimensions
SCREEN_WIDTH = 800
SCREEN_HEIGHT = 600

# Colors
WHITE = (255, 255, 255)
BLUE = (108, 128, 198)

# Parameters
g = 9.81   # Acceleration due to gravity (m/s^2)
m = 5.24e-7  # Mass of the raindrop (kg)
kv = 1.85e-7  # Viscous drag coefficient (Nsm^-1)

# Raindrop class
class Raindrop(pygame.sprite.Sprite):
    def __init__(self, pos, radius=5):
        super().__init__()
        self.radius = radius
        self.image = pygame.Surface((2 * self.radius, 2 * self.radius), pygame.SRCALPHA)
        pygame.draw.circle(self.image, BLUE, (self.radius, self.radius), self.radius)
        self.rect = self.image.get_rect(center=pos)
        self.velocity = np.array([0.0, 0.0])
        self.acceleration = np.array([0.0, g])

    def update(self, dt):
        pomoc = self.acceleration.copy()
        self.acceleration -= (kv/m)*self.velocity 
        self.velocity += pomoc * dt
        self.rect.y += self.velocity[1] * dt

# Main function
def main():
# Create screen
    screen = pygame.display.set_mode((SCREEN_WIDTH, SCREEN_HEIGHT))
    pygame.display.set_caption("Kapljice kiše")

    # Create raindrop sprite group
    all_sprites = pygame.sprite.Group()
    raindrops = []

    running = True
    clock = pygame.time.Clock()

    while running:
        dt = clock.tick(60) / 1000  # Convert milliseconds to seconds

        for event in pygame.event.get():
            if event.type == pygame.QUIT:
                running = False

        # Update raindrops
        for raindrop in raindrops:
            raindrop.update(dt)

        # Add new raindrops
        if np.random.rand() < 0.1:
            raindrop = Raindrop(pos=(np.random.randint(0, SCREEN_WIDTH), 0))
            all_sprites.add(raindrop)
            raindrops.append(raindrop)

        # Draw
        screen.fill(WHITE)
        all_sprites.draw(screen)

        pygame.display.flip()

    pygame.quit()

if __name__ == "__main__":
    main()
