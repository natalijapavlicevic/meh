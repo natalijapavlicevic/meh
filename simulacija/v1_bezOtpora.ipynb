{
 "cells": [
  {
   "cell_type": "code",
   "execution_count": null,
   "metadata": {},
   "outputs": [],
   "source": [
    "import numpy as np\n",
    "import matplotlib.pyplot as plt\n",
    "\n",
    "g = 9.81   \n",
    "m = 5.24e-7  #  masa kapljice\n",
    "kv = 0  # NEMA OTPORA!\n",
    "\n",
    "# pocetni uslovi\n",
    "h = 1000 #m\n",
    "v = 0\n",
    "t = 0\n",
    "\n",
    "dt = 1\n",
    "\n",
    "H = []\n",
    "\n",
    "while h > 0:\n",
    "    h += v * dt # staro v OJLEROVA METODA\n",
    "    g += - (kv/m)*v # ovo ce uvek biti nula! tj g je const\n",
    "    v -= g * dt # novo v\n",
    "    t += dt\n",
    "\n",
    "    H.append(h)\n",
    "\n",
    "plt.figure(figsize=(4,5))\n",
    "plt.scatter(np.ones_like(H),H)\n",
    "plt.show()"
   ]
  }
 ],
 "metadata": {
  "language_info": {
   "name": "python"
  }
 },
 "nbformat": 4,
 "nbformat_minor": 2
}
