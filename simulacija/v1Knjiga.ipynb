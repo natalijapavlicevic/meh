{
 "cells": [
  {
   "cell_type": "code",
   "execution_count": null,
   "metadata": {},
   "outputs": [
    {
     "name": "stdout",
     "output_type": "stream",
     "text": [
      "[-9.81000000e+00 -9.80650990e+00 -9.80302105e+00 ... -7.96912274e-03\n",
      " -7.96628758e-03  0.00000000e+00]\n",
      "[ 0.00000000e+00 -9.81000000e-03 -1.96165099e-02 ... -2.75516544e+01\n",
      " -2.75516623e+01 -2.75516703e+01]\n",
      "[0.0000e+00 1.0000e-03 2.0000e-03 ... 1.9997e+01 1.9998e+01 1.9999e+01]\n"
     ]
    }
   ],
   "source": [
    "# kod za simulaciju\n",
    "\n",
    "from pylab import *\n",
    "#\n",
    "# Physical variables\n",
    "g = 9.81\n",
    "kv = 1.85e-7 # Nsmˆ-2\n",
    "m = 5.2e-7\n",
    "# kg\n",
    "time = 20.0\n",
    "dt = 0.001\n",
    "# Initial conditions\n",
    "v0 = 0.0\n",
    "# Numerical initialization\n",
    "n = int(round(time/dt))\n",
    "v = zeros(n,float)\n",
    "a = zeros(n,float)\n",
    "t = zeros(n,float)\n",
    "# Set initial values\n",
    "v[0] = v0\n",
    "# Integration loop\n",
    "for i in range(n-1):\n",
    "    a[i] = -g - (kv/m)*v[i]\n",
    "    v[i+1] = v[i] + a[i]*dt\n",
    "    t[i+1] = t[i] + dt\n",
    "\n",
    "print(a)\n",
    "print(v)"
   ]
  }
 ],
 "metadata": {
  "language_info": {
   "name": "python"
  }
 },
 "nbformat": 4,
 "nbformat_minor": 2
}
