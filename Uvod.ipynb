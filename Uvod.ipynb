{
 "cells": [
  {
   "cell_type": "markdown",
   "metadata": {},
   "source": [
    "# <center>**Kap kiše**</center>"
   ]
  },
  {
   "cell_type": "markdown",
   "metadata": {},
   "source": [
    "Bavićemo se problemom određivanja brzine kišne kapi pri slobodnom padu.\n",
    "<br>\n",
    "* Pojednostavljeni modeli:\n",
    "    * MODEL BEZ OTPORA VAZDUHA\n",
    "    * MODEL SA KONSTANTNOM BRZINOM\n",
    "    <br><br><br>\n",
    "    * POTPUNI MODEL \n",
    "<br>\n",
    "* Poređenje sva tri modela grafički\n",
    "\n",
    "* Potpuni model - Simulacija kiše "
   ]
  },
  {
   "cell_type": "markdown",
   "metadata": {},
   "source": [
    "![Sile koje deluju na kaplicu](sile.jpg)\n",
    "\n",
    "Gde je $\\mathbf{F_D} = -k_v v(t) \\mathbf{j}$ sila otpora vazduha i $\\mathbf{G} = -m g \\mathbf{j} $ sila gravitacije,\n",
    "<br>\n",
    "$k_v$ predstavlja koeficijent otpora vazduha, a sa $\\mathbf{j}$ označavamo vertikalni pravac vektora.\n",
    "<br>\n",
    "<small>Vektore smo označili podebljanim slovima.</small>"
   ]
  }
 ],
 "metadata": {
  "kernelspec": {
   "display_name": "Python 3",
   "language": "python",
   "name": "python3"
  },
  "language_info": {
   "codemirror_mode": {
    "name": "ipython",
    "version": 3
   },
   "file_extension": ".py",
   "mimetype": "text/x-python",
   "name": "python",
   "nbconvert_exporter": "python",
   "pygments_lexer": "ipython3",
   "version": "3.10.12"
  }
 },
 "nbformat": 4,
 "nbformat_minor": 2
}
